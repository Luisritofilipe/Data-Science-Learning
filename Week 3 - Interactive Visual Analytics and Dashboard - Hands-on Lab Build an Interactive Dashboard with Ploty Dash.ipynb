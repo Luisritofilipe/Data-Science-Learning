  {
   "cell_type": "markdown",
   "metadata": {},
   "source": []
  },
  {
   "cell_type": "code",
   "execution_count": 3,
   "metadata": {},
   "outputs": [],
   "source": [
    "import pandas as pd\n",
    "import numpy as np"
   ]
  },
  {
   "cell_type": "code",
   "execution_count": 9,
   "metadata": {},
   "outputs": [],
   "source": [
    "spacex_df=pd.read_csv(\"https://cf-courses-data.s3.us.cloud-object-storage.appdomain.cloud/IBM-DS0321EN-SkillsNetwork/datasets/spacex_launch_dash.csv\", index_col=0)"
   ]
  },
  {
   "cell_type": "code",
   "execution_count": null,
   "metadata": {},
   "outputs": [],
   "source": [
    "# Import required libraries\n",
    "import pandas as pd\n",
    "import dash\n",
    "from dash import html, dcc\n",
    "from dash.dependencies import Input, Output\n",
    "import plotly.express as px\n",
    "\n",
    "# Read the airline data into pandas dataframe\n",
    "spacex_df = pd.read_csv(\"spacex_launch_dash.csv\")\n",
    "max_payload = spacex_df['Payload Mass (kg)'].max()\n",
    "min_payload = spacex_df['Payload Mass (kg)'].min()\n",
    "launch_sites_count_df = spacex_df.groupby(['Launch Site']).count().reset_index().rename(columns={'Launch Site' : 'Launch Count'})\n",
    "\n",
    "# Create a dash application\n",
    "app = dash.Dash(__name__)\n",
    "\n",
    "# Create an app layout\n",
    "app.layout = html.Div(children=[html.H1('SpaceX Launch Records Dashboard',\n",
    "                                        style={'textAlign': 'center', 'color': '#503D36', 'font-size': 40}),\n",
    "                                dcc.Dropdown(\n",
    "                                    id='site-dropdown',\n",
    "                                    options=[\n",
    "                                        {'label': 'All Sites', 'value': 'ALL'},\n",
    "                                        {'label': launch_sites_count_df.iloc[0, 0], 'value': launch_sites_count_df.iloc[0, 0]},\n",
    "                                        {'label': launch_sites_count_df.iloc[1, 0], 'value': launch_sites_count_df.iloc[1, 0]},\n",
    "                                        {'label': launch_sites_count_df.iloc[2, 0], 'value': launch_sites_count_df.iloc[2, 0]},\n",
    "                                        {'label': launch_sites_count_df.iloc[3, 0], 'value': launch_sites_count_df.iloc[3, 0]}\n",
    "                                    ],\n",
    "                                    value='ALL',\n",
    "                                    placeholder='Select a Launch Site',\n",
    "                                    searchable=True,\n",
    "                                    style={'padding': '3px', 'font-size': 20, 'text-align-last': 'center'}\n",
    "                                ),\n",
    "                                html.Br(),\n",
    "                                html.Div(dcc.Graph(id='success-pie-chart')),\n",
    "                                html.Br(),\n",
    "                                html.P(\"Payload range (Kg):\"),\n",
    "                                dcc.RangeSlider(\n",
    "                                    id='payload-slider',\n",
    "                                    min=0,\n",
    "                                    max=10000,\n",
    "                                    step=500,\n",
    "                                    marks={ 0: '0', 2000: '2000', 4000: '4000', 6000: '6000', 8000: '8000', 10000: '10000'},\n",
    "                                    value=[min_payload, max_payload]\n",
    "                                ),\n",
    "                                html.Div(dcc.Graph(id='success-payload-scatter-chart'))\n",
    "                            ])\n",
    "\n",
    "@app.callback( Output(component_id='success-pie-chart', component_property='figure'),\n",
    "               Input(component_id='site-dropdown', component_property='value'))\n",
    "\n",
    "def get_pie_chart(entered_site):\n",
    "    if entered_site == 'ALL':\n",
    "        filtered_df = spacex_df.groupby('Launch Site')['class'].sum().to_frame().reset_index().rename(columns={\"class\": \"Success\"})\n",
    "        fig = px.pie(filtered_df, values='Success', names='Launch Site', title='Successful Launches From All Sites')\n",
    "    else:\n",
    "        filtered_df = spacex_df[spacex_df['Launch Site'] == entered_site]['class'].value_counts().to_frame().reset_index()\n",
    "        filtered_df = filtered_df.rename(columns={\"index\": \"Class\", \"class\": \"Count\"})\n",
    "        fig = px.pie(filtered_df, values='Count', names='Class', title='Successful Launches for ' + entered_site + ' Launch Site')\n",
    "    return fig\n",
    "\n",
    "@app.callback( Output(component_id='success-payload-scatter-chart', component_property='figure'),\n",
    "               Input(component_id='site-dropdown', component_property='value'),\n",
    "               Input(component_id='payload-slider', component_property='value'))\n",
    "\n",
    "def get_scatter_chart(entered_site, slider_value):\n",
    "    if entered_site == 'ALL':\n",
    "        filtered_df = spacex_df[['Payload Mass (kg)', 'class', 'Booster Version Category']]\n",
    "        filtered_df = filtered_df[filtered_df['Payload Mass (kg)'].between(slider_value[0], slider_value[1], inclusive=True)]\n",
    "        fig = px.scatter(filtered_df, x='Payload Mass (kg)', y='class', color='Booster Version Category', title='Payload and Outcome for All Launch Sites')\n",
    "    else:\n",
    "        filtered_df = spacex_df[spacex_df['Launch Site']==entered_site]['Payload Mass (kg)', 'class', 'Booster Version Category']\n",
    "        filtered_df = filtered_df[filtered_df['Payload Mass (kg)'].between(slider_value[0], slider_value[1], inclusive=True)]\n",
    "        fig = px.scatter(filtered_df, x='Payload Mass (kg)', y='class', color='Booster Version Category', title='Payload and Outcome for Launch Site ' + entered_site)\n",
    "    return fig\n",
    "\n",
    "# Run the app\n",
    "if __name__ == '__main__':\n",
    "    app.run_server()\n"
   ]
  },
  {
   "cell_type": "code",
   "execution_count": null,
   "metadata": {},
   "outputs": [],
   "source": []
  }
 ],
 "metadata": {
  "kernelspec": {
   "display_name": "Python 3",
   "language": "python",
   "name": "python3"
  },
  "language_info": {
   "codemirror_mode": {
    "name": "ipython",
    "version": 3
   },
   "file_extension": ".py",
   "mimetype": "text/x-python",
   "name": "python",
   "nbconvert_exporter": "python",
   "pygments_lexer": "ipython3",
   "version": "3.11.1"
  },
  "orig_nbformat": 4,
  "vscode": {
   "interpreter": {
    "hash": "4e2f76c0f21f17945bef1322e12f019d5b33bc281df49960cbd6be2e600cb129"
   }
  }
 },
 "nbformat": 4,
 "nbformat_minor": 2
}
