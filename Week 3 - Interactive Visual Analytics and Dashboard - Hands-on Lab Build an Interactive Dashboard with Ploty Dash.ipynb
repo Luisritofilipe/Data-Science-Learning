{
 "cells": [
  {
   "attachments": {},
   "cell_type": "markdown",
   "metadata": {},
   "source": [
    "<p style=\"text-align:center\">\n",
    "    <a href=\"https://skills.network/?utm_medium=Exinfluencer&utm_source=Exinfluencer&utm_content=000026UJ&utm_term=10006555&utm_id=NA-SkillsNetwork-Channel-SkillsNetworkCoursesIBMDS0321ENSkillsNetwork26802033-2022-01-01\" target=\"_blank\">\n",
    "    <img src=\"https://cf-courses-data.s3.us.cloud-object-storage.appdomain.cloud/assets/logos/SN_web_lightmode.png\" width=\"200\" alt=\"Skills Network Logo\"  />\n",
    "    </a>\n",
    "</p>"
   ]
  },
  {
   "attachments": {},
   "cell_type": "markdown",
   "metadata": {},
   "source": [
    "<h1>Build a Dashboard Application with Plotly Dash</h1>\n",
    "In this lab, you will be building a Plotly Dash application for users to perform interactive visual analytics on SpaceX launch data in real-time.\n",
    "\n",
    "This dashboard application contains input components such as a dropdown list and a range slider to interact with a pie chart and a scatter point chart. You will be guided to build this dashboard application via the following tasks:\n",
    "\n",
    "<li>TASK 1: Add a Launch Site Drop-down Input Component</li>\n",
    "<li>TASK 2: Add a callback function to render <code>success-pie-chart</code> based on selected site dropdown</li>\n",
    "<li>TASK 3: Add a Range Slider to Select Payload</li>\n",
    "<li>TASK 4: Add a callback function to render the <code>success-payload-scatter-chart</code> scatter plot</li>\n",
    "<br>\n",
    "<b><i>Note:Please take screenshots of the Dashboard and save them. Further upload your notebook to github.</i></b>\n",
    "\n",
    "<b><i>The github url and the screenshots are later required in the presentation slides.</i></b>\n",
    "\n",
    "Your completed dashboard application should look like the following screenshot:\n",
    "\n",
    "<img src=\"https://cf-courses-data.s3.us.cloud-object-storage.appdomain.cloud/IBM-DS0321EN-SkillsNetwork/labs/module_3/images/dash_completed.PNG\" style=\"width: 50%\">"
   ]
  },
  {
   "attachments": {},
   "cell_type": "markdown",
   "metadata": {},
   "source": [
    "After visual analysis using the dashboard, you should be able to obtain some insights to answer the following five questions:\n",
    "\n",
    "<ol start=\"1\">\n",
    "    <li>Which site has the largest successful launches?</li>\n",
    "    <li>Which site has the highest launch success rate?</li>\n",
    "    <li>Which payload range(s) has the highest launch success rate?</li>\n",
    "    <li>Which payload range(s) has the lowest launch success rate?</li>\n",
    "    <li>Which F9 Booster version (<code>v1.0</code>, <code>v1.1</code>, <code>FT</code>, <code>B4</code>, <code>B5</code>, etc.) has the highest launch success rate?</li>\n",
    "</ol>"
   ]
  },
  {
   "attachments": {},
   "cell_type": "markdown",
   "metadata": {},
   "source": [
    "<b>Estimated time needed:</b> 90 minutes\n",
    "\n",
    "<h2>Important Notice about this lab environment</h2>\n",
    "Please be aware that sessions for this lab environment are not persisted. When you launch the Cloud IDE, you are presented with a <code>'dedicated computer on the cloud'</code> exclusively for you. This is available to you as long as you are actively working on the labs. Once you close your session or it is timed out due to inactivity, you are logged off, and this dedicated computer on the cloud is deleted along with any files you may have created, downloaded or installed.\n",
    "\n",
    "The next time you launch this lab, a new environment is created for you. If you finish only part of the lab and return later, you may have to start from the beginning. So, it is a good idea to plan your time accordingly and finish your labs in a single session.\n",
    "\n",
    "<h2>Setup development environment</h2>\n",
    "<h3>Install required Python packages</h3>\n",
    "<li>Open a new terminal, by clicking on the menu bar and selecting Terminal->New Terminal, as in the image below.</li>\n",
    "<br>\n",
    "<img src=\"https://cf-courses-data.s3.us.cloud-object-storage.appdomain.cloud/IBMDeveloperSkillsNetwork-DV0101EN-SkillsNetwork/labs/Module%204/images/lab2_new_terminal.png\" style=\"width: 30%\">\n",
    "<br>\n",
    "<br>\n",
    "<li>Now, you have script and terminal ready to start the lab.</li>\n",
    "<br>\n",
    "<img src=\"https://cf-courses-data.s3.us.cloud-object-storage.appdomain.cloud/IBMDeveloperSkillsNetwork-DV0101EN-SkillsNetwork/labs/Module%204/images/lab2_terminal.png\" style=\"width: 30%\">\n",
    "<br>\n",
    "<br>\n",
    "<li>Install python packages required to run the application.</li>\n",
    "\n",
    "Copy and paste the command <code>python3 -m pip install pandas dash</code> to the terminal.\n",
    "\n",
    "<h3>Download a skeleton dashboard application and dataset</h3>\n",
    "First, let's get the SpaceX Launch dataset for this lab:\n",
    "<br>\n",
    "<br>\n",
    "<li>Run the following <code>wget</code> command line in the terminal to download dataset as <code>spacex_launch_dash.csv</code></li>\n",
    "\n",
    "<code>wget \"https://cf-courses-data.s3.us.cloud-object-storage.appdomain.cloud/IBM-DS0321EN-SkillsNetwork/datasets/spacex_launch_dash.csv\"</code>\n",
    "\n",
    "<li>Download a skeleton Dash app to be completed in this lab:</li>\n",
    "\n",
    "<code>wget \"https://cf-courses-data.s3.us.cloud-object-storage.appdomain.cloud/IBM-DS0321EN-SkillsNetwork/labs/module_3/spacex_dash_app.py\"</code>\n",
    "\n",
    "<li>Test the skeleton app by running the command <code>python3 spacex_dash_app.py</code> in the terminal:</li>\n",
    "\n",
    "<li>Observe the port number (8050) shown in the terminal.</li>\n",
    "\n",
    "<li>In the left Navigation Pane click on <code>Others</code> and click <code>Launch Application</code> option under it. Enter the application port number as 8050. Click <code>Your Application</code>.\n",
    "\n",
    "<li>You should see a nearly blank web page indicating a successfully running dash app.</li>\n",
    "\n",
    "Next, let's fill the skeleton app with required input/output components and callback functions.\n",
    "<br>\n",
    "If you need to refresh your memory about Plotly Dash components and callback functions, you may refer to the lab you have learned before."
   ]
  },
  {
   "attachments": {},
   "cell_type": "markdown",
   "metadata": {},
   "source": [
    "<h2>TASK 1: Add a Launch Site Drop-down Input Component</h2>\n",
    "\n",
    "We have four different launch sites and we would like to first see which one has the largest success count.\n",
    "<br>\n",
    "Then, we would like to select one specific site and check its detailed success rate (class=0 vs. class=1).\n",
    "As such, we will need a dropdown menu to let us select different launch sites.\n",
    "\n",
    "<li>Find and complete a commented <code>dcc.Dropdown(id='site-dropdown',...)</code> input with the following attributes:</li>\n",
    "\n",
    "<ul>\n",
    "<li><code>id</code> attribute with value <code>site-dropdown</code></li>\n",
    "<li><code>options</code> attribute is a list of dict-like option objects (with <code>label</code> and <code>value</code> attributes). You can set the <code>label</code> and <code>value</code> all to be the launch site names in the <code>spacex_df</code> and you need to include the default <code>All</code> option. e.g., <code>options=[{'label': 'All Sites', 'value': 'ALL'},{'label': 'site1', 'value': 'site1'}, ...]</code></li>\n",
    "<li><code>value</code> attribute with default dropdown value to be <code>ALL</code> meaning all sites are selected</li>\n",
    "<li><code>placeholder</code> attribute to show a text description about this input area, such as <code>Select a Launch Site here</code></li>\n",
    "<li><code>searchable</code> attribute to be True so we can enter keywords to search launch sites</li>\n",
    "</ul>"
   ]
  },
  {
   "cell_type": "markdown",
   "metadata": {},
   "source": []
  },
  {
   "cell_type": "code",
   "execution_count": 3,
   "metadata": {},
   "outputs": [],
   "source": [
    "import pandas as pd\n",
    "import numpy as np"
   ]
  },
  {
   "cell_type": "code",
   "execution_count": 9,
   "metadata": {},
   "outputs": [],
   "source": [
    "spacex_df=pd.read_csv(\"https://cf-courses-data.s3.us.cloud-object-storage.appdomain.cloud/IBM-DS0321EN-SkillsNetwork/datasets/spacex_launch_dash.csv\", index_col=0)"
   ]
  },
  {
   "cell_type": "code",
   "execution_count": 10,
   "metadata": {},
   "outputs": [
    {
     "data": {
      "text/html": [
       "<div>\n",
       "<style scoped>\n",
       "    .dataframe tbody tr th:only-of-type {\n",
       "        vertical-align: middle;\n",
       "    }\n",
       "\n",
       "    .dataframe tbody tr th {\n",
       "        vertical-align: top;\n",
       "    }\n",
       "\n",
       "    .dataframe thead th {\n",
       "        text-align: right;\n",
       "    }\n",
       "</style>\n",
       "<table border=\"1\" class=\"dataframe\">\n",
       "  <thead>\n",
       "    <tr style=\"text-align: right;\">\n",
       "      <th></th>\n",
       "      <th>Launch Site</th>\n",
       "      <th>Success</th>\n",
       "    </tr>\n",
       "  </thead>\n",
       "  <tbody>\n",
       "    <tr>\n",
       "      <th>0</th>\n",
       "      <td>CCAFS LC-40</td>\n",
       "      <td>7</td>\n",
       "    </tr>\n",
       "    <tr>\n",
       "      <th>1</th>\n",
       "      <td>CCAFS SLC-40</td>\n",
       "      <td>3</td>\n",
       "    </tr>\n",
       "    <tr>\n",
       "      <th>2</th>\n",
       "      <td>KSC LC-39A</td>\n",
       "      <td>10</td>\n",
       "    </tr>\n",
       "    <tr>\n",
       "      <th>3</th>\n",
       "      <td>VAFB SLC-4E</td>\n",
       "      <td>4</td>\n",
       "    </tr>\n",
       "  </tbody>\n",
       "</table>\n",
       "</div>"
      ],
      "text/plain": [
       "    Launch Site  Success\n",
       "0   CCAFS LC-40        7\n",
       "1  CCAFS SLC-40        3\n",
       "2    KSC LC-39A       10\n",
       "3   VAFB SLC-4E        4"
      ]
     },
     "execution_count": 10,
     "metadata": {},
     "output_type": "execute_result"
    }
   ],
   "source": [
    "launch_sites_count_df = spacex_df.groupby(['Launch Site']).count().reset_index().rename(columns={'Launch Site' : 'Launch Count'})\n",
    "launch_sites_success_df = spacex_df.groupby(['Launch Site'])['class'].sum().to_frame().reset_index().rename(columns={'class' : 'Success'})\n",
    "\n",
    "launch_sites_success_df"
   ]
  },
  {
   "cell_type": "code",
   "execution_count": 1,
   "metadata": {},
   "outputs": [
    {
     "name": "stdout",
     "output_type": "stream",
     "text": [
      "Dash is running on http://127.0.0.1:8050/\n",
      "\n",
      " * Serving Flask app '__main__'\n",
      " * Debug mode: off\n"
     ]
    },
    {
     "name": "stderr",
     "output_type": "stream",
     "text": [
      "WARNING: This is a development server. Do not use it in a production deployment. Use a production WSGI server instead.\n",
      " * Running on http://127.0.0.1:8050\n",
      "Press CTRL+C to quit\n"
     ]
    }
   ],
   "source": [
    "# Import required libraries\n",
    "import pandas as pd\n",
    "import dash\n",
    "from dash import html, dcc\n",
    "from dash.dependencies import Input, Output\n",
    "import plotly.express as px\n",
    "\n",
    "# Read the airline data into pandas dataframe\n",
    "spacex_df = pd.read_csv(\"spacex_launch_dash.csv\")\n",
    "max_payload = spacex_df['Payload Mass (kg)'].max()\n",
    "min_payload = spacex_df['Payload Mass (kg)'].min()\n",
    "launch_sites_count_df = spacex_df.groupby(['Launch Site']).count().reset_index().rename(columns={'Launch Site' : 'Launch Count'})\n",
    "\n",
    "# Create a dash application\n",
    "app = dash.Dash(__name__)\n",
    "\n",
    "# Create an app layout\n",
    "app.layout = html.Div(children=[html.H1('SpaceX Launch Records Dashboard',\n",
    "                                        style={'textAlign': 'center', 'color': '#503D36', 'font-size': 40}),\n",
    "                                dcc.Dropdown(\n",
    "                                    id='site-dropdown',\n",
    "                                    options=[\n",
    "                                        {'label': 'All Sites', 'value': 'ALL'},\n",
    "                                        {'label': launch_sites_count_df.iloc[0, 0], 'value': launch_sites_count_df.iloc[0, 0]},\n",
    "                                        {'label': launch_sites_count_df.iloc[1, 0], 'value': launch_sites_count_df.iloc[1, 0]},\n",
    "                                        {'label': launch_sites_count_df.iloc[2, 0], 'value': launch_sites_count_df.iloc[2, 0]},\n",
    "                                        {'label': launch_sites_count_df.iloc[3, 0], 'value': launch_sites_count_df.iloc[3, 0]}\n",
    "                                    ],\n",
    "                                    value='ALL',\n",
    "                                    placeholder='Select a Launch Site',\n",
    "                                    searchable=True,\n",
    "                                    style={'padding': '3px', 'font-size': 20, 'text-align-last': 'center'}\n",
    "                                ),\n",
    "                                html.Br(),\n",
    "                                html.Div(dcc.Graph(id='success-pie-chart')),\n",
    "                                html.Br(),\n",
    "                                html.P(\"Payload range (Kg):\"),\n",
    "                                dcc.RangeSlider(\n",
    "                                    id='payload-slider',\n",
    "                                    min=0,\n",
    "                                    max=10000,\n",
    "                                    step=500,\n",
    "                                    marks={ 0: '0', 2000: '2000', 4000: '4000', 6000: '6000', 8000: '8000', 10000: '10000'},\n",
    "                                    value=[min_payload, max_payload]\n",
    "                                ),\n",
    "                                html.Div(dcc.Graph(id='success-payload-scatter-chart'))\n",
    "                            ])\n",
    "\n",
    "# TASK 2:\n",
    "# Add a callback function for `site-dropdown` as input, `success-pie-chart` as output\n",
    "@app.callback( Output(component_id='success-pie-chart', component_property='figure'),\n",
    "               Input(component_id='site-dropdown', component_property='value'))\n",
    "\n",
    "# TASK 2:\n",
    "def get_pie_chart(entered_site):\n",
    "    if entered_site == 'ALL':\n",
    "        filtered_df = spacex_df.groupby('Launch Site')['class'].sum().to_frame().reset_index().rename(columns={\"class\": \"Success\"})\n",
    "        fig = px.pie(filtered_df, values='Success', names='Launch Site', title='Successful Launches From All Sites')\n",
    "        return fig\n",
    "    else:\n",
    "        filtered_df = spacex_df[spacex_df['Launch Site'] == entered_site]['class'].value_counts().to_frame().reset_index()\n",
    "        filtered_df = filtered_df.rename(columns={\"index\": \"Class\", \"class\": \"Count\"})\n",
    "        fig = px.pie(filtered_df, values='Count', names='Class', title='Successful Launches for ' + entered_site + ' Launch Site')\n",
    "        return fig\n",
    "\n",
    "# TASK 4:\n",
    "# Add a callback function for `site-dropdown` and `payload-slider` as inputs, `success-payload-scatter-chart` as output\n",
    "@app.callback( Output(component_id='success-payload-scatter-chart', component_property='figure'),\n",
    "               Input(component_id='site-dropdown', component_property='value'),\n",
    "               Input(component_id='payload-slider', component_property='value'))\n",
    "\n",
    "def get_scatter_chart(entered_site, slider_value):\n",
    "    if entered_site == 'ALL':\n",
    "        filtered_df = spacex_df[['Payload Mass (kg)', 'class', 'Booster Version Category']]\n",
    "        filtered_df = filtered_df[filtered_df['Payload Mass (kg)'].between(slider_value[0], slider_value[1], inclusive=True)]\n",
    "        fig = px.scatter(filtered_df, x='Payload Mass (kg)', y='class', color='Booster Version Category', title='Payload and Outcome for All Launch Sites')\n",
    "        return fig\n",
    "    else:\n",
    "        filtered_df = spacex_df[spacex_df['Launch Site']==entered_site]['Payload Mass (kg)', 'class', 'Booster Version Category']\n",
    "        filtered_df = filtered_df[filtered_df['Payload Mass (kg)'].between(slider_value[0], slider_value[1], inclusive=True)]\n",
    "        fig = px.scatter(filtered_df, x='Payload Mass (kg)', y='class', color='Booster Version Category', title='Payload and Outcome for Launch Site ' + entered_site)\n",
    "        return fig\n",
    "\n",
    "# Run the app\n",
    "if __name__ == '__main__':\n",
    "    app.run_server()\n"
   ]
  },
  {
   "cell_type": "code",
   "execution_count": null,
   "metadata": {},
   "outputs": [],
   "source": []
  }
 ],
 "metadata": {
  "kernelspec": {
   "display_name": "Python 3",
   "language": "python",
   "name": "python3"
  },
  "language_info": {
   "codemirror_mode": {
    "name": "ipython",
    "version": 3
   },
   "file_extension": ".py",
   "mimetype": "text/x-python",
   "name": "python",
   "nbconvert_exporter": "python",
   "pygments_lexer": "ipython3",
   "version": "3.11.1"
  },
  "orig_nbformat": 4,
  "vscode": {
   "interpreter": {
    "hash": "4e2f76c0f21f17945bef1322e12f019d5b33bc281df49960cbd6be2e600cb129"
   }
  }
 },
 "nbformat": 4,
 "nbformat_minor": 2
}
